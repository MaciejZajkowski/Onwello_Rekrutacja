{
 "cells": [
  {
   "cell_type": "code",
   "execution_count": 1,
   "metadata": {},
   "outputs": [],
   "source": [
    "import pandas as pd\n",
    "import sklearn\n",
    "from sklearn.model_selection import train_test_split\n",
    "from sklearn.metrics import f1_score, accuracy_score, balanced_accuracy_score, recall_score,confusion_matrix\n",
    "\n",
    "import tensorflow as tf\n",
    "from tensorflow.keras import regularizers\n",
    "from sklearn.model_selection import train_test_split\n",
    "import sys\n",
    "import numpy as np\n",
    "import random\n",
    "import pathlib\n",
    "from tensorflow.keras import layers\n",
    "import numpy as np\n",
    "import seaborn as sns"
   ]
  },
  {
   "cell_type": "code",
   "execution_count": 2,
   "metadata": {},
   "outputs": [
    {
     "name": "stderr",
     "output_type": "stream",
     "text": [
      "C:\\Users\\macie\\AppData\\Local\\Temp/ipykernel_916/2312792024.py:2: DtypeWarning: Columns (9,10,12,13,17,18,20,21,24,25,27,28,36) have mixed types. Specify dtype option on import or set low_memory=False.\n",
      "  bengin_df = pd.read_csv('./ML_Academy/Data/CSV_benign.csv')\n"
     ]
    }
   ],
   "source": [
    "malwere_df = pd.read_csv('./ML_Academy/Data/CSV_malware.csv')\n",
    "bengin_df = pd.read_csv('./ML_Academy/Data/CSV_benign.csv')"
   ]
  },
  {
   "cell_type": "code",
   "execution_count": 3,
   "metadata": {},
   "outputs": [
    {
     "data": {
      "text/plain": [
       "(4999, 494135)"
      ]
     },
     "execution_count": 3,
     "metadata": {},
     "output_type": "execute_result"
    }
   ],
   "source": [
    "len(malwere_df),len(bengin_df)"
   ]
  },
  {
   "cell_type": "markdown",
   "metadata": {},
   "source": [
    "Widzimy że mamy doczynienia z bardzo mocno niezbalansowanym zbiorem, zatem w wyborze featerów musimy uwzględniać takie które są najbardziej reprezentowane w mniejszym zbiorze"
   ]
  },
  {
   "cell_type": "markdown",
   "metadata": {},
   "source": [
    "Wiek Domeny "
   ]
  },
  {
   "cell_type": "code",
   "execution_count": 5,
   "metadata": {},
   "outputs": [
    {
     "data": {
      "text/plain": [
       "<AxesSubplot:>"
      ]
     },
     "execution_count": 5,
     "metadata": {},
     "output_type": "execute_result"
    },
    {
     "data": {
      "image/png": "[encoded data removed]",
      "text/plain": [
       "<Figure size 432x288 with 1 Axes>"
      ]
     },
     "metadata": {
      "needs_background": "light"
     },
     "output_type": "display_data"
    }
   ],
   "source": [
    "dominion_days = []\n",
    "for data in malwere_df.Domain_Age:\n",
    "    if type(data) == str:\n",
    "        if ' days' in data:\n",
    "            dominion_days.append(int(data.split(' days')[0]))\n",
    "        else:\n",
    "            dominion_days.append(0)\n",
    "    else:\n",
    "        dominion_days.append(0)\n",
    "pd.Series(dominion_days).hist(density=1)"
   ]
  },
  {
   "cell_type": "code",
   "execution_count": 6,
   "metadata": {},
   "outputs": [
    {
     "data": {
      "text/plain": [
       "<AxesSubplot:>"
      ]
     },
     "execution_count": 6,
     "metadata": {},
     "output_type": "execute_result"
    },
    {
     "data": {
      "image/png": "[encoded data removed]",
      "text/plain": [
       "<Figure size 432x288 with 1 Axes>"
      ]
     },
     "metadata": {
      "needs_background": "light"
     },
     "output_type": "display_data"
    }
   ],
   "source": [
    "dominion_days = []\n",
    "for data in bengin_df.Domain_Age:\n",
    "    if type(data) == str:\n",
    "        if ' days' in data:\n",
    "            dominion_days.append(int(data.split(' days')[0]))\n",
    "        else:\n",
    "            dominion_days.append(0)\n",
    "    else:\n",
    "        dominion_days.append(0)\n",
    "pd.Series(dominion_days).hist(density=True)"
   ]
  },
  {
   "cell_type": "markdown",
   "metadata": {},
   "source": [
    "Widzimy  że zmienna daje nam informacje ponieważ wykresy się różnią"
   ]
  },
  {
   "cell_type": "code",
   "execution_count": 4,
   "metadata": {},
   "outputs": [
    {
     "data": {
      "text/plain": [
       "godaddy.com                    0.207376\n",
       "web.com                        0.062072\n",
       "NameBright.com                 0.056429\n",
       "domainsbyproxy.com             0.048569\n",
       "hugedomains.com                0.038694\n",
       "                                 ...   \n",
       "domainprivacyservice.com.au    0.000202\n",
       "l.o-w-o.info                   0.000202\n",
       "g.o-w-o.info                   0.000202\n",
       "beaglebeat.com                 0.000202\n",
       "300.cn                         0.000202\n",
       "Name: proportion, Length: 403, dtype: float64"
      ]
     },
     "execution_count": 4,
     "metadata": {},
     "output_type": "execute_result"
    }
   ],
   "source": [
    "em_num = []\n",
    "eml_domains = []\n",
    "for i,data in enumerate(malwere_df.Emails):\n",
    "    if type(data) == str:\n",
    "        if '[' in data and ']' in data:\n",
    "            res = data.strip('][').split(', ')\n",
    "            eml_domains = eml_domains + ([x.split('@')[1].replace(\"'\",'') for x in res if '@' in x] )\n",
    "            em_num.append(len(res))\n",
    "        else:\n",
    "            if '@' in data:\n",
    "                eml_domains.append(data.split('@')[1])\n",
    "            else:\n",
    "                eml_domains.append(None)\n",
    "            em_num.append(1)\n",
    "    else:\n",
    "        eml_domains.append(None)\n",
    "        em_num.append(0)\n",
    "\n",
    "pd.Series(eml_domains).value_counts(normalize=True)"
   ]
  },
  {
   "cell_type": "code",
   "execution_count": 42,
   "metadata": {},
   "outputs": [
    {
     "data": {
      "text/plain": [
       "godaddy.com              0.097463\n",
       "web.com                  0.095616\n",
       "cscglobal.com            0.034174\n",
       "namecheap.com            0.029031\n",
       "markmonitor.com          0.023141\n",
       "                           ...   \n",
       "mail.videoland.com.tw    0.000002\n",
       "kyosu.net                0.000002\n",
       "leixun.net               0.000002\n",
       "dongnhan.com             0.000002\n",
       "erdemoto.com             0.000002\n",
       "Name: proportion, Length: 16380, dtype: float64"
      ]
     },
     "execution_count": 42,
     "metadata": {},
     "output_type": "execute_result"
    }
   ],
   "source": [
    "em_len = []\n",
    "eml_domains = []\n",
    "for i,data in enumerate(bengin_df.Emails):\n",
    "    if type(data) == str:\n",
    "        if '[' in data and ']' in data:\n",
    "            res = data.strip('][').split(', ')\n",
    "            eml_domains = eml_domains + [x.split('@')[1].replace(\"'\",'') for x in res if '@' in x] \n",
    "            em_len.append(len(res))\n",
    "        else:\n",
    "            if '@' in data:\n",
    "                eml_domains.append(data.split('@')[1])\n",
    "            em_len.append(1)\n",
    "    else:\n",
    "        em_len.append(0)\n",
    "    # if i > 20000:\n",
    "    #     break\n",
    "\n",
    "pd.Series(em_len).value_counts(normalize=True)\n",
    "pd.Series(eml_domains).value_counts(normalize=True)"
   ]
  },
  {
   "cell_type": "code",
   "execution_count": 41,
   "metadata": {},
   "outputs": [
    {
     "data": {
      "text/plain": [
       "godaddy.com                    0.207376\n",
       "web.com                        0.062072\n",
       "NameBright.com                 0.056429\n",
       "domainsbyproxy.com             0.048569\n",
       "hugedomains.com                0.038694\n",
       "                                 ...   \n",
       "domainprivacyservice.com.au    0.000202\n",
       "l.o-w-o.info                   0.000202\n",
       "g.o-w-o.info                   0.000202\n",
       "beaglebeat.com                 0.000202\n",
       "300.cn                         0.000202\n",
       "Name: proportion, Length: 403, dtype: float64"
      ]
     },
     "execution_count": 41,
     "metadata": {},
     "output_type": "execute_result"
    }
   ],
   "source": [
    "em_len = []\n",
    "eml_domains = []\n",
    "for i,data in enumerate(malwere_df.Emails):\n",
    "    if type(data) == str:\n",
    "        if '[' in data and ']' in data:\n",
    "            res = data.strip('][').split(', ')\n",
    "            eml_domains = eml_domains + [x.split('@')[1].replace(\"'\",'') for x in res if '@' in x] \n",
    "            em_len.append(len(res))\n",
    "        else:\n",
    "            if '@' in data:\n",
    "                eml_domains.append(data.split('@')[1])\n",
    "            em_len.append(1)\n",
    "    else:\n",
    "        em_len.append(0)\n",
    "    # if i > 20000:\n",
    "    #     break\n",
    "\n",
    "pd.Series(em_len).value_counts(normalize=True)\n",
    "pd.Series(eml_domains).value_counts(normalize=True)"
   ]
  },
  {
   "cell_type": "code",
   "execution_count": 8,
   "metadata": {},
   "outputs": [],
   "source": [
    "def preprocess(data):\n",
    "    def encode_labels(labels:list,data):\n",
    "        result = []\n",
    "        for row in data:\n",
    "            if row in labels:\n",
    "                result.append(labels.index(row))\n",
    "            else:\n",
    "                result.append(len(labels))\n",
    "        return pd.Series(result)\n",
    "    \n",
    "    columns = ['TTL','Country','longest_word','Domain_Name','Domain_Age', 'entropy','Emails','Organization','len'\n",
    "               ,'Page_Rank','tld','Alexa_Rank','numeric_percentage','subdomain']\n",
    "    df = data.loc[:,columns]\n",
    "    \n",
    "    #usówanie danych nienumerycznych z kolumn w których powinny znaleść się tylko dane numeryczne\n",
    "    for column in ['TTL','Page_Rank','Alexa_Rank','subdomain','entropy','numeric_percentage']:\n",
    "        df[column] = pd.to_numeric(df[column],errors='coerce')\n",
    "    \n",
    "    df.dropna(subset = ['TTL','entropy','numeric_percentage','subdomain','longest_word'],inplace=True)\n",
    "    \n",
    "    #label encodnig bazuje na najbardziej popularnych wynikach, z uwzględnieniem najbardziej popularnych wyników w mealware\n",
    "    df.Organization = encode_labels(['numeric_percentage','REDACTED FOR PRIVACY','Domains By Proxy LLC','Domains By Proxy','WhoisGuard inc.'],df.Organization)\n",
    "    df.Country = encode_labels(['US','DE','NL','VG','CN'],df.Country)\n",
    "    df.Domain_Name = encode_labels(['HUGEDOMAINS.COM','000WEBHOST.COM'],df.Domain_Name)\n",
    "    df.tld = encode_labels(['com','net','org','cn','ru'],df.tld)\n",
    "    \n",
    "    #zliczanie ilości dni \n",
    "    dominion_days = []\n",
    "    for data in df.Domain_Age:\n",
    "        if type(data) == str:\n",
    "            if ' days' in data:\n",
    "                dominion_days.append(int(data.split(' days')[0]))\n",
    "            else:\n",
    "                dominion_days.append(0)\n",
    "        else:\n",
    "            dominion_days.append(0)\n",
    "    df.Domain_Age = pd.Series(dominion_days)\n",
    "    \n",
    "    em_num = []\n",
    "    eml_domains = []\n",
    "    #zbieranie dostępnych domen mailowych dla każdego wiersza\n",
    "    for i,data in enumerate(df.Emails):\n",
    "        if type(data) == str:\n",
    "            if '[' in data and ']' in data:\n",
    "                res = data.strip('][').split(', ')\n",
    "                eml_domains.append([x.split('@')[1].replace(\"'\",'') for x in res if '@' in x] )\n",
    "                em_num.append(len(res))\n",
    "            else:\n",
    "                if '@' in data:\n",
    "                    eml_domains.append(data.split('@')[1])\n",
    "                else:\n",
    "                    eml_domains.append(None)\n",
    "                em_num.append(1)\n",
    "        else:\n",
    "            eml_domains.append(None)\n",
    "            em_num.append(0)\n",
    "    labels = ['godaddy.com','web.com','cscglobal.com','NameBright.com','domainsbyproxy.com']\n",
    "\n",
    "    result = []\n",
    "    #kodowanie 4 najbardziej popularnych domen\n",
    "    data = eml_domains\n",
    "    for row in data:\n",
    "        if type(row) == list:\n",
    "            new_row = {x: row.count(x) for x in labels }\n",
    "            new_row['else'] = len(row) - sum(new_row.values())\n",
    "            result.append(new_row)\n",
    "        elif type(row) == str:\n",
    "            if row in labels:\n",
    "                new_row ={row:1}\n",
    "            else:\n",
    "                new_row = {'else':1}\n",
    "            result.append(new_row)\n",
    "        else:\n",
    "            result.append({x: 0 for x in labels})\n",
    "    df = pd.concat([df,pd.DataFrame(result).fillna(0)],axis=1)\n",
    "    \n",
    "    df.longest_word = df.longest_word.apply(lambda x: len(x) if type(x) == str else 0)\n",
    "    for i in ['len','longest_word']:\n",
    "        df[i] = pd.to_numeric(df[i],errors='coerce')\n",
    "    df.dropna(subset=['len','longest_word'],inplace=True)\n",
    "    df.drop(columns=['Emails'],inplace=True)\n",
    "    df.fillna(-1,inplace=True)\n",
    "    return df    \n",
    "    "
   ]
  },
  {
   "cell_type": "code",
   "execution_count": 9,
   "metadata": {},
   "outputs": [],
   "source": [
    "#przetwarzanie danych\n",
    "df = preprocess(bengin_df)\n",
    "df_2 = preprocess(malwere_df)\n",
    "df_2['Y'] = 1\n",
    "df['Y'] = 0\n",
    "final_df = pd.concat([df_2,df])"
   ]
  },
  {
   "cell_type": "code",
   "execution_count": 10,
   "metadata": {},
   "outputs": [],
   "source": [
    "Y = final_df.Y\n",
    "X = final_df.drop(columns=['Y'])\n",
    "X_train, X_test, y_train, y_test = train_test_split(X, Y, test_size=0.3, random_state=42)"
   ]
  },
  {
   "cell_type": "code",
   "execution_count": 11,
   "metadata": {},
   "outputs": [],
   "source": [
    "#over sampling zbioru treningowego do proporcji 1:1\n",
    "train = pd.concat([X_train,y_train],axis=1)\n",
    "class_0,class_1 = train.Y.value_counts()\n",
    "c3 = train[train['Y'] == 1]\n",
    "c2 = train[train['Y'] == 0]\n",
    "_1 = c3.sample(class_0,replace=True)\n",
    "_2 = c2.sample(class_0)\n",
    "train = pd.concat([_1,_2]).sample(frac = 1)\n"
   ]
  },
  {
   "cell_type": "code",
   "execution_count": 12,
   "metadata": {},
   "outputs": [
    {
     "data": {
      "text/plain": [
       "Y\n",
       "0    323250\n",
       "1    323250\n",
       "Name: count, dtype: int64"
      ]
     },
     "execution_count": 12,
     "metadata": {},
     "output_type": "execute_result"
    }
   ],
   "source": [
    "train.Y.value_counts()"
   ]
  },
  {
   "cell_type": "code",
   "execution_count": 13,
   "metadata": {},
   "outputs": [],
   "source": [
    "X_train = train.drop(columns=['Y'])\n",
    "y_train = train.Y"
   ]
  },
  {
   "cell_type": "code",
   "execution_count": 14,
   "metadata": {},
   "outputs": [],
   "source": [
    "from sklearn.ensemble import RandomForestClassifier"
   ]
  },
  {
   "cell_type": "code",
   "execution_count": 15,
   "metadata": {},
   "outputs": [
    {
     "data": {
      "text/plain": [
       "RandomForestClassifier()"
      ]
     },
     "execution_count": 15,
     "metadata": {},
     "output_type": "execute_result"
    }
   ],
   "source": [
    "RC = RandomForestClassifier()\n",
    "RC.fit(X_train,y_train)"
   ]
  },
  {
   "cell_type": "markdown",
   "metadata": {},
   "source": [
    "Metryki które nas będą interesować to:\n",
    "1. accuracy - nie chcemy żeby nasz model przewidywał w większości przypadków źle\n",
    "2. recall - naszym głównym zadaniem jest wychwycenie szkodliwej strony, niewychwycenie szkodliwej strony jest gorsze niż błędne wychwycenie strony nieszkodliwej\n",
    "3. ballanced accuracy - jest to metryka mająca odbić nam niezbalansowanośc klas - jest to średnia recalu dla każdej z klas\n"
   ]
  },
  {
   "cell_type": "code",
   "execution_count": 16,
   "metadata": {},
   "outputs": [],
   "source": [
    "def test_model(model,x_test,y_test,softmax= False):\n",
    "    if softmax:\n",
    "            pred = model.predict(x_test,verbose = 0)\n",
    "            pred = np.argmax(pred,axis =1)\n",
    "            pred = np.reshape(pred,newshape=pred.shape[0])\n",
    "    else:\n",
    "        pred = model.predict(x_test)\n",
    "    print(f\"accuracy : {accuracy_score(y_test,pred) }, ballanced accuracy: {balanced_accuracy_score(y_test,pred)},recal {recall_score(y_test,pred)} \")\n",
    "    sns.heatmap(confusion_matrix(y_test,pred,normalize='true'),annot=True)"
   ]
  },
  {
   "cell_type": "code",
   "execution_count": 17,
   "metadata": {},
   "outputs": [
    {
     "name": "stdout",
     "output_type": "stream",
     "text": [
      "accuracy : 0.9890933245718041, ballanced accuracy: 0.6343863397389768,recal 0.2716688227684347 \n"
     ]
    },
    {
     "data": {
      "image/png": "[encoded data removed]",
      "text/plain": [
       "<Figure size 432x288 with 2 Axes>"
      ]
     },
     "metadata": {
      "needs_background": "light"
     },
     "output_type": "display_data"
    }
   ],
   "source": [
    "test_model(RC,X_test,y_test)"
   ]
  },
  {
   "cell_type": "markdown",
   "metadata": {},
   "source": [
    "Widzymy że las losowy głównie stara się przewidzieć klasę która jest najbardziej reprezenowana"
   ]
  },
  {
   "cell_type": "code",
   "execution_count": 18,
   "metadata": {},
   "outputs": [],
   "source": [
    "\n",
    "kernel_regularizer = regularizers.l2(1e-5)\n",
    "bias_regularizer = regularizers.l2(1e-5)\n",
    "model = tf.keras.Sequential()\n",
    "tf.keras.layers.Input(19),\n",
    "model.add(tf.keras.layers.Dense(256, activation = 'relu',\n",
    "                kernel_regularizer=kernel_regularizer,\n",
    "                bias_regularizer=bias_regularizer))\n",
    "model.add(tf.keras.layers.Dense(256, activation = 'relu',\n",
    "                kernel_regularizer=kernel_regularizer,\n",
    "                bias_regularizer=bias_regularizer))\n",
    "model.add(tf.keras.layers.Dense(64, activation = 'relu',\n",
    "                kernel_regularizer=kernel_regularizer,\n",
    "                bias_regularizer=bias_regularizer))\n",
    "\n",
    "model.add(tf.keras.layers.Dense(2, activation = 'softmax'))\n",
    "model.compile(optimizer=tf.keras.optimizers.Adam(), loss=tf.keras.losses.SparseCategoricalCrossentropy(), metrics=['accuracy'])\n"
   ]
  },
  {
   "cell_type": "code",
   "execution_count": 19,
   "metadata": {},
   "outputs": [],
   "source": [
    "X_train,X_val,y_train,y_val = train_test_split(X_train,y_train)"
   ]
  },
  {
   "cell_type": "code",
   "execution_count": 20,
   "metadata": {},
   "outputs": [
    {
     "name": "stdout",
     "output_type": "stream",
     "text": [
      "Epoch 1/150\n",
      "3789/3789 [==============================] - 9s 2ms/step - loss: 334.6767 - accuracy: 0.6967 - val_loss: 1.0465 - val_accuracy: 0.6557\n",
      "Epoch 2/150\n",
      "3789/3789 [==============================] - 8s 2ms/step - loss: 0.6319 - accuracy: 0.7669 - val_loss: 0.4836 - val_accuracy: 0.7845\n",
      "Epoch 3/150\n",
      "3789/3789 [==============================] - 8s 2ms/step - loss: 5.2990 - accuracy: 0.7636 - val_loss: 0.5293 - val_accuracy: 0.7600\n",
      "Epoch 4/150\n",
      "3789/3789 [==============================] - 9s 2ms/step - loss: 0.5394 - accuracy: 0.7638 - val_loss: 0.5130 - val_accuracy: 0.7702\n",
      "Epoch 5/150\n",
      "3789/3789 [==============================] - 8s 2ms/step - loss: 0.7176 - accuracy: 0.7591 - val_loss: 0.7133 - val_accuracy: 0.7032\n",
      "Epoch 6/150\n",
      "3789/3789 [==============================] - 8s 2ms/step - loss: 0.5971 - accuracy: 0.7391 - val_loss: 0.6582 - val_accuracy: 0.6791\n",
      "Epoch 7/150\n",
      "3789/3789 [==============================] - 8s 2ms/step - loss: 0.5876 - accuracy: 0.7385 - val_loss: 0.5388 - val_accuracy: 0.7497\n",
      "Epoch 8/150\n",
      "3789/3789 [==============================] - 8s 2ms/step - loss: 0.6524 - accuracy: 0.7490 - val_loss: 0.6307 - val_accuracy: 0.6642\n",
      "Epoch 9/150\n",
      "3789/3789 [==============================] - 8s 2ms/step - loss: 0.5581 - accuracy: 0.7552 - val_loss: 0.5287 - val_accuracy: 0.7545\n",
      "Epoch 10/150\n",
      "3789/3789 [==============================] - 8s 2ms/step - loss: 0.5790 - accuracy: 0.7599 - val_loss: 0.5199 - val_accuracy: 0.7698\n",
      "Epoch 11/150\n",
      "3789/3789 [==============================] - 10s 3ms/step - loss: 0.5350 - accuracy: 0.7704 - val_loss: 0.5290 - val_accuracy: 0.7545\n",
      "Epoch 12/150\n",
      "3789/3789 [==============================] - 8s 2ms/step - loss: 0.5233 - accuracy: 0.7755 - val_loss: 0.5305 - val_accuracy: 0.7413\n",
      "Epoch 13/150\n",
      "3789/3789 [==============================] - 10s 3ms/step - loss: 0.5336 - accuracy: 0.7816 - val_loss: 0.4849 - val_accuracy: 0.7883\n",
      "Epoch 14/150\n",
      "3789/3789 [==============================] - 11s 3ms/step - loss: 0.4912 - accuracy: 0.7871 - val_loss: 0.4771 - val_accuracy: 0.7939\n",
      "Epoch 15/150\n",
      "3789/3789 [==============================] - 9s 2ms/step - loss: 0.4876 - accuracy: 0.7921 - val_loss: 0.4784 - val_accuracy: 0.7940\n",
      "Epoch 16/150\n",
      "3789/3789 [==============================] - 10s 3ms/step - loss: 0.4692 - accuracy: 0.7977 - val_loss: 0.4648 - val_accuracy: 0.7969\n",
      "Epoch 17/150\n",
      "3789/3789 [==============================] - 11s 3ms/step - loss: 0.4676 - accuracy: 0.7997 - val_loss: 0.4686 - val_accuracy: 0.7992\n",
      "Epoch 18/150\n",
      "3789/3789 [==============================] - 8s 2ms/step - loss: 0.4646 - accuracy: 0.8018 - val_loss: 0.4561 - val_accuracy: 0.8054\n",
      "Epoch 19/150\n",
      "3789/3789 [==============================] - 10s 3ms/step - loss: 0.4723 - accuracy: 0.8010 - val_loss: 0.4541 - val_accuracy: 0.8079\n",
      "Epoch 20/150\n",
      "3789/3789 [==============================] - 11s 3ms/step - loss: 0.4683 - accuracy: 0.8031 - val_loss: 0.4664 - val_accuracy: 0.7928\n",
      "Epoch 21/150\n",
      "3789/3789 [==============================] - 8s 2ms/step - loss: 0.4637 - accuracy: 0.8033 - val_loss: 0.4704 - val_accuracy: 0.7976\n",
      "Epoch 22/150\n",
      "3789/3789 [==============================] - 9s 3ms/step - loss: 0.4545 - accuracy: 0.8069 - val_loss: 0.4475 - val_accuracy: 0.8104\n",
      "Epoch 23/150\n",
      "3789/3789 [==============================] - 11s 3ms/step - loss: 0.4581 - accuracy: 0.8052 - val_loss: 0.4561 - val_accuracy: 0.8048\n",
      "Epoch 24/150\n",
      "3789/3789 [==============================] - 9s 2ms/step - loss: 0.4605 - accuracy: 0.8038 - val_loss: 0.4487 - val_accuracy: 0.8090\n",
      "Epoch 25/150\n",
      "3789/3789 [==============================] - 10s 3ms/step - loss: 0.4625 - accuracy: 0.8040 - val_loss: 0.4842 - val_accuracy: 0.7784\n",
      "Epoch 26/150\n",
      "3789/3789 [==============================] - 11s 3ms/step - loss: 0.4688 - accuracy: 0.8045 - val_loss: 0.4742 - val_accuracy: 0.7986\n",
      "Epoch 27/150\n",
      "3789/3789 [==============================] - 9s 2ms/step - loss: 0.5017 - accuracy: 0.7988 - val_loss: 0.4596 - val_accuracy: 0.8042\n",
      "Epoch 28/150\n",
      "3789/3789 [==============================] - 10s 3ms/step - loss: 0.4735 - accuracy: 0.8013 - val_loss: 0.4616 - val_accuracy: 0.8000\n",
      "Epoch 29/150\n",
      "3789/3789 [==============================] - 11s 3ms/step - loss: 0.4557 - accuracy: 0.8054 - val_loss: 0.4525 - val_accuracy: 0.8048\n",
      "Epoch 30/150\n",
      "3789/3789 [==============================] - 9s 2ms/step - loss: 0.4543 - accuracy: 0.8079 - val_loss: 0.4468 - val_accuracy: 0.8101\n",
      "Epoch 31/150\n",
      "3789/3789 [==============================] - 10s 3ms/step - loss: 0.4878 - accuracy: 0.8060 - val_loss: 0.4471 - val_accuracy: 0.8074\n",
      "Epoch 32/150\n",
      "3789/3789 [==============================] - 11s 3ms/step - loss: 0.4515 - accuracy: 0.8088 - val_loss: 0.4448 - val_accuracy: 0.8112\n",
      "Epoch 33/150\n",
      "3789/3789 [==============================] - 9s 2ms/step - loss: 0.4467 - accuracy: 0.8102 - val_loss: 0.4461 - val_accuracy: 0.8087\n",
      "Epoch 34/150\n",
      "3789/3789 [==============================] - 10s 3ms/step - loss: 0.4737 - accuracy: 0.8088 - val_loss: 0.4458 - val_accuracy: 0.8072\n",
      "Epoch 35/150\n",
      "3789/3789 [==============================] - 11s 3ms/step - loss: 0.4509 - accuracy: 0.8091 - val_loss: 0.4472 - val_accuracy: 0.8073\n",
      "Epoch 36/150\n",
      "3789/3789 [==============================] - 10s 3ms/step - loss: 0.4464 - accuracy: 0.8108 - val_loss: 0.4787 - val_accuracy: 0.8003\n",
      "Epoch 37/150\n",
      "3789/3789 [==============================] - 9s 2ms/step - loss: 0.4512 - accuracy: 0.8096 - val_loss: 0.4502 - val_accuracy: 0.8088\n",
      "Epoch 38/150\n",
      "3789/3789 [==============================] - 11s 3ms/step - loss: 0.4500 - accuracy: 0.8131 - val_loss: 0.4403 - val_accuracy: 0.8118\n",
      "Epoch 39/150\n",
      "3789/3789 [==============================] - 11s 3ms/step - loss: 0.4406 - accuracy: 0.8149 - val_loss: 0.4398 - val_accuracy: 0.8142\n",
      "Epoch 40/150\n",
      "3789/3789 [==============================] - 9s 2ms/step - loss: 0.4361 - accuracy: 0.8164 - val_loss: 0.4324 - val_accuracy: 0.8185\n",
      "Epoch 41/150\n",
      "3789/3789 [==============================] - 10s 3ms/step - loss: 0.4370 - accuracy: 0.8162 - val_loss: 0.4363 - val_accuracy: 0.8158\n",
      "Epoch 42/150\n",
      "3789/3789 [==============================] - 11s 3ms/step - loss: 0.4366 - accuracy: 0.8163 - val_loss: 0.4327 - val_accuracy: 0.8201\n",
      "Epoch 43/150\n",
      "3789/3789 [==============================] - 9s 2ms/step - loss: 0.4442 - accuracy: 0.8137 - val_loss: 0.4361 - val_accuracy: 0.8161\n",
      "Epoch 44/150\n",
      "3789/3789 [==============================] - 11s 3ms/step - loss: 0.4853 - accuracy: 0.8128 - val_loss: 0.4318 - val_accuracy: 0.8173\n",
      "Epoch 45/150\n",
      "3789/3789 [==============================] - 10s 3ms/step - loss: 0.4842 - accuracy: 0.8138 - val_loss: 0.4300 - val_accuracy: 0.8189\n",
      "Epoch 46/150\n",
      "3789/3789 [==============================] - 9s 2ms/step - loss: 0.4398 - accuracy: 0.8199 - val_loss: 0.4262 - val_accuracy: 0.8176\n",
      "Epoch 47/150\n",
      "3789/3789 [==============================] - 11s 3ms/step - loss: 0.4321 - accuracy: 0.8192 - val_loss: 0.4367 - val_accuracy: 0.8161\n",
      "Epoch 48/150\n",
      "3789/3789 [==============================] - 10s 3ms/step - loss: 0.4375 - accuracy: 0.8152 - val_loss: 0.4501 - val_accuracy: 0.8084\n",
      "Epoch 49/150\n",
      "3789/3789 [==============================] - 9s 2ms/step - loss: 0.4336 - accuracy: 0.8159 - val_loss: 0.4393 - val_accuracy: 0.8147\n",
      "Epoch 50/150\n",
      "3789/3789 [==============================] - 11s 3ms/step - loss: 0.4461 - accuracy: 0.8120 - val_loss: 0.4614 - val_accuracy: 0.7992\n",
      "Epoch 51/150\n",
      "3789/3789 [==============================] - 11s 3ms/step - loss: 0.4534 - accuracy: 0.8077 - val_loss: 0.4511 - val_accuracy: 0.8068\n",
      "Epoch 52/150\n",
      "3789/3789 [==============================] - 9s 2ms/step - loss: 0.4497 - accuracy: 0.8091 - val_loss: 0.4485 - val_accuracy: 0.8095\n",
      "Epoch 53/150\n",
      "3789/3789 [==============================] - 11s 3ms/step - loss: 0.4935 - accuracy: 0.8124 - val_loss: 0.4354 - val_accuracy: 0.8167\n"
     ]
    }
   ],
   "source": [
    "h = model.fit(X_train, y_train, batch_size=128, epochs=150, validation_data=(X_val, y_val), \n",
    "        callbacks=[tf.keras.callbacks.EarlyStopping(monitor='val_loss', patience=7, restore_best_weights=True,start_from_epoch=30)],verbose =1)"
   ]
  },
  {
   "cell_type": "code",
   "execution_count": 21,
   "metadata": {},
   "outputs": [
    {
     "name": "stdout",
     "output_type": "stream",
     "text": [
      "accuracy : 0.7639672585460623, ballanced accuracy: 0.7984762389986021,recal 0.833764553686934 \n"
     ]
    },
    {
     "data": {
      "image/png": "[encoded data removed]",
      "text/plain": [
       "<Figure size 432x288 with 2 Axes>"
      ]
     },
     "metadata": {
      "needs_background": "light"
     },
     "output_type": "display_data"
    }
   ],
   "source": [
    "test_model(model,X_test,y_test,True)"
   ]
  },
  {
   "cell_type": "markdown",
   "metadata": {},
   "source": [
    "Widzimy że model oparty na ssn działą o wiele lepiej, choć mamy mniejszą dokładność to recal jest zdecydowanie zadawalający."
   ]
  },
  {
   "cell_type": "markdown",
   "metadata": {},
   "source": [
    "Model z czasem może się dezaktualizować \"na produkcji\" ponieważ duża część zmiennych na podstawie których oceniamy jest podatna na wpływ czasu, niektóre domeny mogą się zieniać, jakieś państwo może wprowadzić jakąś ustawę związaną z łatwiejszym / trudniejszym hostingiem co może wpłynąć na wynik. Możemy również dostawać większą cześć stron hostowaną w innym kraju niż usa lub w innym alfabecie niż łacińskim. Takich elementów które mogą się zmienić jest bardzo dużo dlatego warto mieć jakiś system feedbacku jak model się sprawuje i go przetrenowywać raz na jakiś czas. "
   ]
  }
 ],
 "metadata": {
  "kernelspec": {
   "display_name": "Python 3",
   "language": "python",
   "name": "python3"
  },
  "language_info": {
   "codemirror_mode": {
    "name": "ipython",
    "version": 3
   },
   "file_extension": ".py",
   "mimetype": "text/x-python",
   "name": "python",
   "nbconvert_exporter": "python",
   "pygments_lexer": "ipython3",
   "version": "3.9.7"
  }
 },
 "nbformat": 4,
 "nbformat_minor": 2
}
